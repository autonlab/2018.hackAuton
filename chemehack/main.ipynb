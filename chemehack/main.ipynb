{
 "cells": [
  {
   "cell_type": "code",
   "execution_count": 1,
   "metadata": {},
   "outputs": [
    {
     "name": "stderr",
     "output_type": "stream",
     "text": [
      "C:\\Users\\achindha\\Anaconda3\\lib\\site-packages\\sklearn\\cross_validation.py:41: DeprecationWarning: This module was deprecated in version 0.18 in favor of the model_selection module into which all the refactored classes and functions are moved. Also note that the interface of the new CV iterators are different from that of this module. This module will be removed in 0.20.\n",
      "  \"This module will be removed in 0.20.\", DeprecationWarning)\n"
     ]
    }
   ],
   "source": [
    "import pandas as pd\n",
    "import numpy as np\n",
    "from sklearn.preprocessing import MinMaxScaler\n",
    "from sklearn.linear_model import LogisticRegression\n",
    "from sklearn.cross_validation import train_test_split\n",
    "from sklearn.metrics import *\n",
    "from sklearn.metrics import recall_score, f1_score\n",
    "np.set_printoptions(threshold=np.nan)\n",
    "import pickle\n",
    "import matplotlib.pyplot as plt"
   ]
  },
  {
   "cell_type": "code",
   "execution_count": 2,
   "metadata": {},
   "outputs": [],
   "source": [
    "#Importing stationarized data\n",
    "df1 = pd.read_csv('data.csv', delimiter=',',names = ['time', 'data (microvolts)'])"
   ]
  },
  {
   "cell_type": "code",
   "execution_count": 3,
   "metadata": {},
   "outputs": [
    {
     "data": {
      "text/html": [
       "<div>\n",
       "<style scoped>\n",
       "    .dataframe tbody tr th:only-of-type {\n",
       "        vertical-align: middle;\n",
       "    }\n",
       "\n",
       "    .dataframe tbody tr th {\n",
       "        vertical-align: top;\n",
       "    }\n",
       "\n",
       "    .dataframe thead th {\n",
       "        text-align: right;\n",
       "    }\n",
       "</style>\n",
       "<table border=\"1\" class=\"dataframe\">\n",
       "  <thead>\n",
       "    <tr style=\"text-align: right;\">\n",
       "      <th></th>\n",
       "      <th>time</th>\n",
       "      <th>data (microvolts)</th>\n",
       "    </tr>\n",
       "  </thead>\n",
       "  <tbody>\n",
       "    <tr>\n",
       "      <th>0</th>\n",
       "      <td>0.027343</td>\n",
       "      <td>-18.651133</td>\n",
       "    </tr>\n",
       "    <tr>\n",
       "      <th>1</th>\n",
       "      <td>0.029296</td>\n",
       "      <td>-12.948667</td>\n",
       "    </tr>\n",
       "    <tr>\n",
       "      <th>2</th>\n",
       "      <td>0.031250</td>\n",
       "      <td>-8.075133</td>\n",
       "    </tr>\n",
       "    <tr>\n",
       "      <th>3</th>\n",
       "      <td>0.033203</td>\n",
       "      <td>-4.310333</td>\n",
       "    </tr>\n",
       "    <tr>\n",
       "      <th>4</th>\n",
       "      <td>0.035156</td>\n",
       "      <td>-1.728000</td>\n",
       "    </tr>\n",
       "  </tbody>\n",
       "</table>\n",
       "</div>"
      ],
      "text/plain": [
       "       time  data (microvolts)\n",
       "0  0.027343         -18.651133\n",
       "1  0.029296         -12.948667\n",
       "2  0.031250          -8.075133\n",
       "3  0.033203          -4.310333\n",
       "4  0.035156          -1.728000"
      ]
     },
     "execution_count": 3,
     "metadata": {},
     "output_type": "execute_result"
    }
   ],
   "source": [
    "df1.head()"
   ]
  },
  {
   "cell_type": "code",
   "execution_count": 4,
   "metadata": {},
   "outputs": [],
   "source": [
    "#Interchanging rows and columns of the data vector\n",
    "df2 = df1['data (microvolts)'].T\n",
    "mat=pd.DataFrame.as_matrix(df2)\n",
    "N = len(mat)"
   ]
  },
  {
   "cell_type": "code",
   "execution_count": 7,
   "metadata": {},
   "outputs": [],
   "source": [
    "#Labeling the data based on CAP_start and CAP_duration obtained from .m file\n",
    "datafile = open('n1.data', 'r')\n",
    "hypfile = open('hyp.csv', 'w')\n",
    "intervfile = open('interv_file.csv','w')\n",
    "durfile = open('dur_file.csv','w')\n",
    "timelist = np.genfromtxt('time_tot.csv')\n",
    "timearr = np.asarray(timelist)\n",
    "durlist = np.genfromtxt('duration.csv')\n",
    "durarr = np.asarray(durlist)\n",
    "interval = 0.0019531 #specified in data file\n",
    "\n",
    "numintervals = 1/interval\n",
    "intervarr = numintervals * timearr\n",
    "durationarr = numintervals * durarr\n",
    "\n",
    "#READING AND STORING DATA:\n",
    "lno = 0\n",
    "j = 0\n",
    "labvector = np.empty([N,1])\n",
    "for line in datafile:\n",
    "    lno += 1\n",
    "    if (lno > 2 and j < len(durlist)):\n",
    "        linelist = line.split('\\t')\n",
    "        data_interval = linelist[0]\n",
    "        microvolts = linelist[3]\n",
    "        label = 0\n",
    "        if((int(intervarr[j]) <= int(data_interval)) and (int(data_interval) <= (int(intervarr[j]) + int(durationarr[j])))) :\n",
    "            label = 1\n",
    "            if (int(data_interval) == (int(intervarr[j]) + int(durationarr[j]))):\n",
    "                j = j+1\n",
    "        labvector[lno] = label    \n",
    "\n",
    "datafile.close()\n",
    "hypfile.close()\n",
    "intervfile.close()\n",
    "durfile.close()"
   ]
  },
  {
   "cell_type": "code",
   "execution_count": 8,
   "metadata": {},
   "outputs": [],
   "source": [
    "#Allocating feature matrix and label_vector of appropriate dimensions \n",
    "w = 1536\n",
    "p = 1276\n",
    "rem = (N-w+2) % p\n",
    "div = int ((N-w+2) / p) \n",
    "mat2 = np.zeros((div,w)) #Feature matrix\n",
    "newlabvector = np.zeros(div) #Label vector\n",
    "\n",
    "#New size of matrix= div x w"
   ]
  },
  {
   "cell_type": "code",
   "execution_count": 9,
   "metadata": {},
   "outputs": [],
   "source": [
    "#Creating feature matrix from data for input to logistic regression:\n",
    "j = 0\n",
    "for i in range(0,N,p):\n",
    "    if (j >= div):\n",
    "        break\n",
    "    mat2[j] =mat[i:i+w]\n",
    "    j=j+1\n",
    "    \n",
    "j=0\n",
    "for i in range(0,N,p):\n",
    "    if (j >= div):\n",
    "        break\n",
    "    newlabvector[j]=labvector[i+w]\n",
    "    j = j+1"
   ]
  },
  {
   "cell_type": "code",
   "execution_count": 10,
   "metadata": {
    "scrolled": true
   },
   "outputs": [],
   "source": [
    "#Assigning test and training splits.\n",
    "percent_test_split = 0.3\n",
    "train_size = int(div * (1 - percent_test_split))\n",
    "test_size = int(div * percent_test_split)"
   ]
  },
  {
   "cell_type": "code",
   "execution_count": 11,
   "metadata": {},
   "outputs": [],
   "source": [
    "#Train_data and test_data\n",
    "Xtrain = mat2[0:train_size]\n",
    "Ytrain = newlabvector[0:train_size]\n",
    "Xtest = mat2[train_size:-1]\n",
    "Ytest = newlabvector[train_size:-1]"
   ]
  },
  {
   "cell_type": "code",
   "execution_count": 12,
   "metadata": {},
   "outputs": [],
   "source": [
    "#Creating logistic regression object\n",
    "lreg = LogisticRegression(C=0.01, fit_intercept = True, solver = 'newton-cg', n_jobs = -1, class_weight = 'balanced')"
   ]
  },
  {
   "cell_type": "code",
   "execution_count": 13,
   "metadata": {},
   "outputs": [],
   "source": [
    "#Training logistic regression on Xtrain and Ytrain\n",
    "y_score = lreg.fit(Xtrain, Ytrain).decision_function(Xtest)"
   ]
  },
  {
   "cell_type": "code",
   "execution_count": 14,
   "metadata": {},
   "outputs": [],
   "source": [
    "#Predicting labels for Xtest\n",
    "Ypred_test = lreg.predict(Xtest)"
   ]
  },
  {
   "cell_type": "code",
   "execution_count": 15,
   "metadata": {},
   "outputs": [
    {
     "name": "stdout",
     "output_type": "stream",
     "text": [
      "Accuracy of logistic regression on test set: 0.57\n"
     ]
    }
   ],
   "source": [
    "print('Accuracy of logistic regression on test set: {:.2f}'.format(lreg.score(Xtest, Ytest)))"
   ]
  },
  {
   "cell_type": "code",
   "execution_count": 16,
   "metadata": {},
   "outputs": [
    {
     "name": "stdout",
     "output_type": "stream",
     "text": [
      "ROC AUC:0.512\n"
     ]
    }
   ],
   "source": [
    "print('ROC AUC:%0.3f' %roc_auc_score(y_true=Ytest,y_score=Ypred_test))"
   ]
  },
  {
   "cell_type": "code",
   "execution_count": 17,
   "metadata": {},
   "outputs": [
    {
     "data": {
      "image/png": "[encoded data removed]",
      "text/plain": [
       "<matplotlib.figure.Figure at 0x270bae6e358>"
      ]
     },
     "metadata": {},
     "output_type": "display_data"
    }
   ],
   "source": [
    "fpr = dict()\n",
    "tpr = dict()\n",
    "roc_auc = dict()\n",
    "\n",
    "fpr[0], tpr[0], _ = roc_curve(Ytest, y_score)\n",
    "roc_auc[0] = auc(fpr[0], tpr[0])\n",
    "\n",
    "plt.figure()\n",
    "lw = 2\n",
    "plt.plot(fpr[0], tpr[0], color='red',\n",
    "         lw=lw, label='ROC curve (area = %0.2f)' % roc_auc[0])\n",
    "plt.plot([0, 1], [0, 1], color='blue', lw=lw, linestyle='--')\n",
    "plt.xlim([0.0, 1.0])\n",
    "plt.ylim([0.0, 1.0])\n",
    "plt.xlabel('False Positive Rate')\n",
    "plt.ylabel('True Positive Rate')\n",
    "plt.title('Receiver operating characteristic')\n",
    "plt.legend(loc=\"lower right\")\n",
    "plt.show()"
   ]
  }
 ],
 "metadata": {
  "kernelspec": {
   "display_name": "Python 3",
   "language": "python",
   "name": "python3"
  },
  "language_info": {
   "codemirror_mode": {
    "name": "ipython",
    "version": 3
   },
   "file_extension": ".py",
   "mimetype": "text/x-python",
   "name": "python",
   "nbconvert_exporter": "python",
   "pygments_lexer": "ipython3",
   "version": "3.6.4"
  }
 },
 "nbformat": 4,
 "nbformat_minor": 2
}
